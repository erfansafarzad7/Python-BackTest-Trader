{
 "cells": [
  {
   "cell_type": "code",
   "execution_count": 8,
   "metadata": {
    "ExecuteTime": {
     "end_time": "2024-05-06T16:23:23.570557Z",
     "start_time": "2024-05-06T16:23:23.566427Z"
    }
   },
   "outputs": [],
   "source": [
    "import numpy\n",
    "import pandas as pd\n",
    "import numpy as np\n",
    "from talib import abstract\n",
    "\n",
    "import warnings\n",
    "warnings.filterwarnings('ignore')\n",
    "\n",
    "\n",
    "SMA = abstract.SMA\n"
   ]
  },
  {
   "cell_type": "code",
   "execution_count": 9,
   "metadata": {
    "ExecuteTime": {
     "end_time": "2024-05-06T16:23:23.589697Z",
     "start_time": "2024-05-06T16:23:23.584570Z"
    }
   },
   "outputs": [],
   "source": [
    "def load_data(file_path):\n",
    "    data = pd.read_csv(file_path)\n",
    "    # data['Close'] = data['Price']\n",
    "    data['Open'] = data['Open'].str.replace(',', '').astype(float)\n",
    "    data['Close'] = data['Price'].str.replace(',', '').astype(float)\n",
    "    data['High'] = data['High'].str.replace(',', '').astype(float)\n",
    "    data['Low'] = data['Low'].str.replace(',', '').astype(float)\n",
    "    return data"
   ]
  },
  {
   "cell_type": "code",
   "execution_count": 10,
   "metadata": {
    "ExecuteTime": {
     "end_time": "2024-05-06T16:23:23.625234Z",
     "start_time": "2024-05-06T16:23:23.609710Z"
    }
   },
   "outputs": [
    {
     "data": {
      "text/plain": "         Date     Price     Open     High      Low     Vol. Change %    Close\n0  03/22/2024  64,441.8  65501.5  66633.3  63989.9   69.21K   -1.62%  64441.8\n1  03/21/2024  65,503.8  67860.0  68161.7  64616.1   75.26K   -3.46%  65503.8\n2  03/20/2024  67,854.0  62046.8  68029.5  60850.9  133.53K    9.35%  67854.0\n3  03/19/2024  62,050.0  67594.1  68099.6  61560.6  148.08K   -8.20%  62050.0\n4  03/18/2024  67,594.1  68389.7  68920.1  66601.4   78.07K   -1.17%  67594.1",
      "text/html": "<div>\n<style scoped>\n    .dataframe tbody tr th:only-of-type {\n        vertical-align: middle;\n    }\n\n    .dataframe tbody tr th {\n        vertical-align: top;\n    }\n\n    .dataframe thead th {\n        text-align: right;\n    }\n</style>\n<table border=\"1\" class=\"dataframe\">\n  <thead>\n    <tr style=\"text-align: right;\">\n      <th></th>\n      <th>Date</th>\n      <th>Price</th>\n      <th>Open</th>\n      <th>High</th>\n      <th>Low</th>\n      <th>Vol.</th>\n      <th>Change %</th>\n      <th>Close</th>\n    </tr>\n  </thead>\n  <tbody>\n    <tr>\n      <th>0</th>\n      <td>03/22/2024</td>\n      <td>64,441.8</td>\n      <td>65501.5</td>\n      <td>66633.3</td>\n      <td>63989.9</td>\n      <td>69.21K</td>\n      <td>-1.62%</td>\n      <td>64441.8</td>\n    </tr>\n    <tr>\n      <th>1</th>\n      <td>03/21/2024</td>\n      <td>65,503.8</td>\n      <td>67860.0</td>\n      <td>68161.7</td>\n      <td>64616.1</td>\n      <td>75.26K</td>\n      <td>-3.46%</td>\n      <td>65503.8</td>\n    </tr>\n    <tr>\n      <th>2</th>\n      <td>03/20/2024</td>\n      <td>67,854.0</td>\n      <td>62046.8</td>\n      <td>68029.5</td>\n      <td>60850.9</td>\n      <td>133.53K</td>\n      <td>9.35%</td>\n      <td>67854.0</td>\n    </tr>\n    <tr>\n      <th>3</th>\n      <td>03/19/2024</td>\n      <td>62,050.0</td>\n      <td>67594.1</td>\n      <td>68099.6</td>\n      <td>61560.6</td>\n      <td>148.08K</td>\n      <td>-8.20%</td>\n      <td>62050.0</td>\n    </tr>\n    <tr>\n      <th>4</th>\n      <td>03/18/2024</td>\n      <td>67,594.1</td>\n      <td>68389.7</td>\n      <td>68920.1</td>\n      <td>66601.4</td>\n      <td>78.07K</td>\n      <td>-1.17%</td>\n      <td>67594.1</td>\n    </tr>\n  </tbody>\n</table>\n</div>"
     },
     "execution_count": 10,
     "metadata": {},
     "output_type": "execute_result"
    }
   ],
   "source": [
    "# Load historical market data\n",
    "data = load_data(\"Bitcoin Historical Data.csv\")\n",
    "\n",
    "data.head()"
   ]
  },
  {
   "cell_type": "code",
   "execution_count": 11,
   "metadata": {
    "ExecuteTime": {
     "end_time": "2024-05-06T16:23:23.631253Z",
     "start_time": "2024-05-06T16:23:23.627246Z"
    }
   },
   "outputs": [],
   "source": [
    "from abc import ABC, abstractmethod\n",
    "\n",
    "\n",
    "class Strategy(ABC):\n",
    "\n",
    "    def __init__(self):\n",
    "        pass\n",
    "    \n",
    "    @abstractmethod\n",
    "    def generate_signal(self, data):\n",
    "        pass\n"
   ]
  },
  {
   "cell_type": "code",
   "outputs": [
    {
     "data": {
      "text/plain": "          Date     Price     Open     High      Low     Vol. Change %  \\\n0   03/22/2024  64,441.8  65501.5  66633.3  63989.9   69.21K   -1.62%   \n1   03/21/2024  65,503.8  67860.0  68161.7  64616.1   75.26K   -3.46%   \n2   03/20/2024  67,854.0  62046.8  68029.5  60850.9  133.53K    9.35%   \n3   03/19/2024  62,050.0  67594.1  68099.6  61560.6  148.08K   -8.20%   \n4   03/18/2024  67,594.1  68389.7  68920.1  66601.4   78.07K   -1.17%   \n5   03/17/2024  68,391.2  65314.2  68857.7  64605.5   66.07K    4.71%   \n6   03/16/2024  65,314.2  69456.5  70037.0  64971.0   75.82K   -5.97%   \n7   03/15/2024  69,463.7  71387.1  72398.1  65765.6  148.59K   -2.69%   \n8   03/14/2024  71,387.5  73066.7  73740.9  68717.2  109.43K   -2.30%   \n9   03/13/2024  73,066.3  71461.9  73623.5  71338.4   77.18K    2.23%   \n10  03/12/2024  71,470.2  72099.1  72916.7  68845.6  105.09K   -0.87%   \n11  03/11/2024  72,099.1  68964.7  72771.5  67452.8  114.72K    4.54%   \n12  03/10/2024  68,964.8  68360.7  69905.3  68165.0   53.49K    0.88%   \n13  03/09/2024  68,366.5  68178.5  68576.9  67923.9   30.71K    0.29%   \n14  03/08/2024  68,172.0  66854.4  69904.0  66170.7  112.67K    1.97%   \n15  03/07/2024  66,855.3  66074.6  67985.5  65602.6   77.47K    1.17%   \n16  03/06/2024  66,080.4  63794.7  67604.9  62848.7  117.91K    3.59%   \n17  03/05/2024  63,792.6  68273.1  69063.1  60138.2  207.60K   -6.56%   \n18  03/04/2024  68,270.1  63135.8  68495.1  62746.8  130.86K    8.13%   \n19  03/03/2024  63,135.8  61955.6  63227.3  61399.4   38.01K    1.84%   \n20  03/02/2024  61,994.5  62397.7  62446.3  61621.9   33.80K   -0.65%   \n21  03/01/2024  62,397.7  61157.3  63147.3  60790.9   74.96K    2.01%   \n22  02/29/2024  61,169.3  62467.1  63653.4  60512.5  119.29K   -2.08%   \n23  02/28/2024  62,467.6  57048.7  63915.3  56704.9  173.64K    9.48%   \n24  02/27/2024  57,056.2  54491.1  57555.2  54464.0  100.48K    4.70%   \n25  02/26/2024  54,495.1  51722.7  54899.1  50925.2   78.05K    5.36%   \n26  02/25/2024  51,722.7  51572.1  51952.0  51299.0   23.61K    0.29%   \n27  02/24/2024  51,571.6  50739.6  51689.9  50592.0   20.99K    1.64%   \n28  02/23/2024  50,740.5  51320.6  51532.5  50537.6   43.27K   -1.13%   \n29  02/22/2024  51,320.4  51850.2  52015.8  50947.3   50.27K   -1.04%   \n\n      Close  Short_MA       Long_MA  Signal  \n0   64441.8       NaN           NaN     NaN  \n1   65503.8  66680.75           NaN     NaN  \n2   67854.0  64953.40  65136.100000    -1.0  \n3   62050.0  64820.45  65833.633333    -1.0  \n4   67594.1  67991.90  66010.200000     1.0  \n5   68391.2  66851.95  67099.333333    -1.0  \n6   65314.2  67385.35  67720.133333    -1.0  \n7   69463.7  70421.80  68719.266667     1.0  \n8   71387.5  72226.90  71303.433333     1.0  \n9   73066.3  72264.30  71971.900000     1.0  \n10  71470.2  71780.50  72209.233333    -1.0  \n11  72099.1  70531.90  70841.900000    -1.0  \n12  68964.8  68662.70  69808.166667    -1.0  \n13  68366.5  68269.60  68501.300000    -1.0  \n14  68172.0  67516.45  67797.866667    -1.0  \n15  66855.3  66464.50  67035.833333    -1.0  \n16  66080.4  64934.65  65574.566667    -1.0  \n17  63792.6  66033.90  66047.466667    -1.0  \n18  68270.1  65704.45  65067.866667     1.0  \n19  63135.8  62545.70  64454.833333    -1.0  \n20  61994.5  62176.65  62496.366667    -1.0  \n21  62397.7  61777.50  61836.866667    -1.0  \n22  61169.3  61812.20  62007.366667    -1.0  \n23  62467.6  59757.90  60224.366667    -1.0  \n24  57056.2  55769.90  58002.300000    -1.0  \n25  54495.1  53106.90  54420.833333    -1.0  \n26  51722.7  51647.40  52595.300000    -1.0  \n27  51571.6  51155.85  51344.800000    -1.0  \n28  50740.5  51030.10  51210.766667    -1.0  \n29  51320.4  51585.40  51303.466667     1.0  ",
      "text/html": "<div>\n<style scoped>\n    .dataframe tbody tr th:only-of-type {\n        vertical-align: middle;\n    }\n\n    .dataframe tbody tr th {\n        vertical-align: top;\n    }\n\n    .dataframe thead th {\n        text-align: right;\n    }\n</style>\n<table border=\"1\" class=\"dataframe\">\n  <thead>\n    <tr style=\"text-align: right;\">\n      <th></th>\n      <th>Date</th>\n      <th>Price</th>\n      <th>Open</th>\n      <th>High</th>\n      <th>Low</th>\n      <th>Vol.</th>\n      <th>Change %</th>\n      <th>Close</th>\n      <th>Short_MA</th>\n      <th>Long_MA</th>\n      <th>Signal</th>\n    </tr>\n  </thead>\n  <tbody>\n    <tr>\n      <th>0</th>\n      <td>03/22/2024</td>\n      <td>64,441.8</td>\n      <td>65501.5</td>\n      <td>66633.3</td>\n      <td>63989.9</td>\n      <td>69.21K</td>\n      <td>-1.62%</td>\n      <td>64441.8</td>\n      <td>NaN</td>\n      <td>NaN</td>\n      <td>NaN</td>\n    </tr>\n    <tr>\n      <th>1</th>\n      <td>03/21/2024</td>\n      <td>65,503.8</td>\n      <td>67860.0</td>\n      <td>68161.7</td>\n      <td>64616.1</td>\n      <td>75.26K</td>\n      <td>-3.46%</td>\n      <td>65503.8</td>\n      <td>66680.75</td>\n      <td>NaN</td>\n      <td>NaN</td>\n    </tr>\n    <tr>\n      <th>2</th>\n      <td>03/20/2024</td>\n      <td>67,854.0</td>\n      <td>62046.8</td>\n      <td>68029.5</td>\n      <td>60850.9</td>\n      <td>133.53K</td>\n      <td>9.35%</td>\n      <td>67854.0</td>\n      <td>64953.40</td>\n      <td>65136.100000</td>\n      <td>-1.0</td>\n    </tr>\n    <tr>\n      <th>3</th>\n      <td>03/19/2024</td>\n      <td>62,050.0</td>\n      <td>67594.1</td>\n      <td>68099.6</td>\n      <td>61560.6</td>\n      <td>148.08K</td>\n      <td>-8.20%</td>\n      <td>62050.0</td>\n      <td>64820.45</td>\n      <td>65833.633333</td>\n      <td>-1.0</td>\n    </tr>\n    <tr>\n      <th>4</th>\n      <td>03/18/2024</td>\n      <td>67,594.1</td>\n      <td>68389.7</td>\n      <td>68920.1</td>\n      <td>66601.4</td>\n      <td>78.07K</td>\n      <td>-1.17%</td>\n      <td>67594.1</td>\n      <td>67991.90</td>\n      <td>66010.200000</td>\n      <td>1.0</td>\n    </tr>\n    <tr>\n      <th>5</th>\n      <td>03/17/2024</td>\n      <td>68,391.2</td>\n      <td>65314.2</td>\n      <td>68857.7</td>\n      <td>64605.5</td>\n      <td>66.07K</td>\n      <td>4.71%</td>\n      <td>68391.2</td>\n      <td>66851.95</td>\n      <td>67099.333333</td>\n      <td>-1.0</td>\n    </tr>\n    <tr>\n      <th>6</th>\n      <td>03/16/2024</td>\n      <td>65,314.2</td>\n      <td>69456.5</td>\n      <td>70037.0</td>\n      <td>64971.0</td>\n      <td>75.82K</td>\n      <td>-5.97%</td>\n      <td>65314.2</td>\n      <td>67385.35</td>\n      <td>67720.133333</td>\n      <td>-1.0</td>\n    </tr>\n    <tr>\n      <th>7</th>\n      <td>03/15/2024</td>\n      <td>69,463.7</td>\n      <td>71387.1</td>\n      <td>72398.1</td>\n      <td>65765.6</td>\n      <td>148.59K</td>\n      <td>-2.69%</td>\n      <td>69463.7</td>\n      <td>70421.80</td>\n      <td>68719.266667</td>\n      <td>1.0</td>\n    </tr>\n    <tr>\n      <th>8</th>\n      <td>03/14/2024</td>\n      <td>71,387.5</td>\n      <td>73066.7</td>\n      <td>73740.9</td>\n      <td>68717.2</td>\n      <td>109.43K</td>\n      <td>-2.30%</td>\n      <td>71387.5</td>\n      <td>72226.90</td>\n      <td>71303.433333</td>\n      <td>1.0</td>\n    </tr>\n    <tr>\n      <th>9</th>\n      <td>03/13/2024</td>\n      <td>73,066.3</td>\n      <td>71461.9</td>\n      <td>73623.5</td>\n      <td>71338.4</td>\n      <td>77.18K</td>\n      <td>2.23%</td>\n      <td>73066.3</td>\n      <td>72264.30</td>\n      <td>71971.900000</td>\n      <td>1.0</td>\n    </tr>\n    <tr>\n      <th>10</th>\n      <td>03/12/2024</td>\n      <td>71,470.2</td>\n      <td>72099.1</td>\n      <td>72916.7</td>\n      <td>68845.6</td>\n      <td>105.09K</td>\n      <td>-0.87%</td>\n      <td>71470.2</td>\n      <td>71780.50</td>\n      <td>72209.233333</td>\n      <td>-1.0</td>\n    </tr>\n    <tr>\n      <th>11</th>\n      <td>03/11/2024</td>\n      <td>72,099.1</td>\n      <td>68964.7</td>\n      <td>72771.5</td>\n      <td>67452.8</td>\n      <td>114.72K</td>\n      <td>4.54%</td>\n      <td>72099.1</td>\n      <td>70531.90</td>\n      <td>70841.900000</td>\n      <td>-1.0</td>\n    </tr>\n    <tr>\n      <th>12</th>\n      <td>03/10/2024</td>\n      <td>68,964.8</td>\n      <td>68360.7</td>\n      <td>69905.3</td>\n      <td>68165.0</td>\n      <td>53.49K</td>\n      <td>0.88%</td>\n      <td>68964.8</td>\n      <td>68662.70</td>\n      <td>69808.166667</td>\n      <td>-1.0</td>\n    </tr>\n    <tr>\n      <th>13</th>\n      <td>03/09/2024</td>\n      <td>68,366.5</td>\n      <td>68178.5</td>\n      <td>68576.9</td>\n      <td>67923.9</td>\n      <td>30.71K</td>\n      <td>0.29%</td>\n      <td>68366.5</td>\n      <td>68269.60</td>\n      <td>68501.300000</td>\n      <td>-1.0</td>\n    </tr>\n    <tr>\n      <th>14</th>\n      <td>03/08/2024</td>\n      <td>68,172.0</td>\n      <td>66854.4</td>\n      <td>69904.0</td>\n      <td>66170.7</td>\n      <td>112.67K</td>\n      <td>1.97%</td>\n      <td>68172.0</td>\n      <td>67516.45</td>\n      <td>67797.866667</td>\n      <td>-1.0</td>\n    </tr>\n    <tr>\n      <th>15</th>\n      <td>03/07/2024</td>\n      <td>66,855.3</td>\n      <td>66074.6</td>\n      <td>67985.5</td>\n      <td>65602.6</td>\n      <td>77.47K</td>\n      <td>1.17%</td>\n      <td>66855.3</td>\n      <td>66464.50</td>\n      <td>67035.833333</td>\n      <td>-1.0</td>\n    </tr>\n    <tr>\n      <th>16</th>\n      <td>03/06/2024</td>\n      <td>66,080.4</td>\n      <td>63794.7</td>\n      <td>67604.9</td>\n      <td>62848.7</td>\n      <td>117.91K</td>\n      <td>3.59%</td>\n      <td>66080.4</td>\n      <td>64934.65</td>\n      <td>65574.566667</td>\n      <td>-1.0</td>\n    </tr>\n    <tr>\n      <th>17</th>\n      <td>03/05/2024</td>\n      <td>63,792.6</td>\n      <td>68273.1</td>\n      <td>69063.1</td>\n      <td>60138.2</td>\n      <td>207.60K</td>\n      <td>-6.56%</td>\n      <td>63792.6</td>\n      <td>66033.90</td>\n      <td>66047.466667</td>\n      <td>-1.0</td>\n    </tr>\n    <tr>\n      <th>18</th>\n      <td>03/04/2024</td>\n      <td>68,270.1</td>\n      <td>63135.8</td>\n      <td>68495.1</td>\n      <td>62746.8</td>\n      <td>130.86K</td>\n      <td>8.13%</td>\n      <td>68270.1</td>\n      <td>65704.45</td>\n      <td>65067.866667</td>\n      <td>1.0</td>\n    </tr>\n    <tr>\n      <th>19</th>\n      <td>03/03/2024</td>\n      <td>63,135.8</td>\n      <td>61955.6</td>\n      <td>63227.3</td>\n      <td>61399.4</td>\n      <td>38.01K</td>\n      <td>1.84%</td>\n      <td>63135.8</td>\n      <td>62545.70</td>\n      <td>64454.833333</td>\n      <td>-1.0</td>\n    </tr>\n    <tr>\n      <th>20</th>\n      <td>03/02/2024</td>\n      <td>61,994.5</td>\n      <td>62397.7</td>\n      <td>62446.3</td>\n      <td>61621.9</td>\n      <td>33.80K</td>\n      <td>-0.65%</td>\n      <td>61994.5</td>\n      <td>62176.65</td>\n      <td>62496.366667</td>\n      <td>-1.0</td>\n    </tr>\n    <tr>\n      <th>21</th>\n      <td>03/01/2024</td>\n      <td>62,397.7</td>\n      <td>61157.3</td>\n      <td>63147.3</td>\n      <td>60790.9</td>\n      <td>74.96K</td>\n      <td>2.01%</td>\n      <td>62397.7</td>\n      <td>61777.50</td>\n      <td>61836.866667</td>\n      <td>-1.0</td>\n    </tr>\n    <tr>\n      <th>22</th>\n      <td>02/29/2024</td>\n      <td>61,169.3</td>\n      <td>62467.1</td>\n      <td>63653.4</td>\n      <td>60512.5</td>\n      <td>119.29K</td>\n      <td>-2.08%</td>\n      <td>61169.3</td>\n      <td>61812.20</td>\n      <td>62007.366667</td>\n      <td>-1.0</td>\n    </tr>\n    <tr>\n      <th>23</th>\n      <td>02/28/2024</td>\n      <td>62,467.6</td>\n      <td>57048.7</td>\n      <td>63915.3</td>\n      <td>56704.9</td>\n      <td>173.64K</td>\n      <td>9.48%</td>\n      <td>62467.6</td>\n      <td>59757.90</td>\n      <td>60224.366667</td>\n      <td>-1.0</td>\n    </tr>\n    <tr>\n      <th>24</th>\n      <td>02/27/2024</td>\n      <td>57,056.2</td>\n      <td>54491.1</td>\n      <td>57555.2</td>\n      <td>54464.0</td>\n      <td>100.48K</td>\n      <td>4.70%</td>\n      <td>57056.2</td>\n      <td>55769.90</td>\n      <td>58002.300000</td>\n      <td>-1.0</td>\n    </tr>\n    <tr>\n      <th>25</th>\n      <td>02/26/2024</td>\n      <td>54,495.1</td>\n      <td>51722.7</td>\n      <td>54899.1</td>\n      <td>50925.2</td>\n      <td>78.05K</td>\n      <td>5.36%</td>\n      <td>54495.1</td>\n      <td>53106.90</td>\n      <td>54420.833333</td>\n      <td>-1.0</td>\n    </tr>\n    <tr>\n      <th>26</th>\n      <td>02/25/2024</td>\n      <td>51,722.7</td>\n      <td>51572.1</td>\n      <td>51952.0</td>\n      <td>51299.0</td>\n      <td>23.61K</td>\n      <td>0.29%</td>\n      <td>51722.7</td>\n      <td>51647.40</td>\n      <td>52595.300000</td>\n      <td>-1.0</td>\n    </tr>\n    <tr>\n      <th>27</th>\n      <td>02/24/2024</td>\n      <td>51,571.6</td>\n      <td>50739.6</td>\n      <td>51689.9</td>\n      <td>50592.0</td>\n      <td>20.99K</td>\n      <td>1.64%</td>\n      <td>51571.6</td>\n      <td>51155.85</td>\n      <td>51344.800000</td>\n      <td>-1.0</td>\n    </tr>\n    <tr>\n      <th>28</th>\n      <td>02/23/2024</td>\n      <td>50,740.5</td>\n      <td>51320.6</td>\n      <td>51532.5</td>\n      <td>50537.6</td>\n      <td>43.27K</td>\n      <td>-1.13%</td>\n      <td>50740.5</td>\n      <td>51030.10</td>\n      <td>51210.766667</td>\n      <td>-1.0</td>\n    </tr>\n    <tr>\n      <th>29</th>\n      <td>02/22/2024</td>\n      <td>51,320.4</td>\n      <td>51850.2</td>\n      <td>52015.8</td>\n      <td>50947.3</td>\n      <td>50.27K</td>\n      <td>-1.04%</td>\n      <td>51320.4</td>\n      <td>51585.40</td>\n      <td>51303.466667</td>\n      <td>1.0</td>\n    </tr>\n  </tbody>\n</table>\n</div>"
     },
     "execution_count": 16,
     "metadata": {},
     "output_type": "execute_result"
    }
   ],
   "source": [
    "class SMAStrategy(Strategy):\n",
    "\n",
    "    def __init__(self, short_window, long_window):\n",
    "        super().__init__()\n",
    "        self.short_window = short_window\n",
    "        self.long_window = long_window\n",
    "    \n",
    "    def generate_signal(self, data):\n",
    "\n",
    "        signals = pd.Series(index=data.index, dtype='int')\n",
    "        \n",
    "        \n",
    "        data['Short_MA']  = SMA(data, timeperiod=self.short_window, price='Open')\n",
    "        data['Long_MA']= SMA(data, timeperiod=self.long_window, price='Open')\n",
    "        \n",
    "        signals[data['Short_MA'] > data['Long_MA']] = 1  # Buy signal\n",
    "        signals[data['Short_MA'] < data['Long_MA']] = -1  # Sell signal\n",
    "        data['Signal'] = signals\n",
    "        return data\n",
    "\n",
    "\n",
    "sma_strategy = SMAStrategy(2, 3)\n",
    "generated_signals = sma_strategy.generate_signal(data)\n",
    "\n",
    "generated_signals"
   ],
   "metadata": {
    "ExecuteTime": {
     "end_time": "2024-05-06T16:23:51.963444Z",
     "start_time": "2024-05-06T16:23:51.927417Z"
    }
   },
   "execution_count": 16
  },
  {
   "cell_type": "code",
   "outputs": [],
   "source": [
    "acc_api = ''    # get account info\n",
    "\n",
    "acc_data = pd.DataFrame(columns=['Balance', 'Position Amount', 'SL%', 'TP%'])\n",
    "\n",
    "# acc_data['Balance'] = acc_api\n",
    "# acc_data['Position Amount'], acc_data['SL%'], acc_data['TP%'] = balance_management(acc_api)\n",
    "\n",
    "\n",
    "for_excel = pd.DataFrame(columns=['Position id', \n",
    "                                  'Status', \n",
    "                                  'Direction', \n",
    "                                  'Amount', 'LV', 'SL%', 'TP%', \n",
    "                                  'Strategy', \n",
    "                                  'Symbol', \n",
    "                                  'Open Date-Time', 'Close Date-Time'])\n",
    "\n",
    "\n"
   ],
   "metadata": {
    "collapsed": false,
    "ExecuteTime": {
     "end_time": "2024-05-06T16:23:23.662927Z",
     "start_time": "2024-05-06T16:23:23.654224Z"
    }
   },
   "execution_count": 14
  },
  {
   "cell_type": "code",
   "outputs": [
    {
     "name": "stdout",
     "output_type": "stream",
     "text": [
      "0 nan\n",
      "1 nan\n",
      "2 -1.0\n",
      "call new short position, current position is 0\n",
      "balance has been managed and tp sl returned for position\n",
      "short position opened\n",
      "3 -1.0\n",
      "4 1.0\n",
      "call new long position, current position is -1\n",
      "-1 has been closed and toggled to long\n",
      "position closed and profit/lose has been calculated\n",
      "balance has been managed and tp sl returned for position\n",
      "long position opened\n",
      "5 -1.0\n",
      "call new short position, current position is 1\n",
      "1 has been closed and toggled to short\n",
      "position closed and profit/lose has been calculated\n",
      "balance has been managed and tp sl returned for position\n",
      "short position opened\n",
      "6 -1.0\n",
      "7 1.0\n",
      "call new long position, current position is -1\n",
      "-1 has been closed and toggled to long\n",
      "position closed and profit/lose has been calculated\n",
      "balance has been managed and tp sl returned for position\n",
      "long position opened\n",
      "8 1.0\n",
      "9 1.0\n",
      "10 -1.0\n",
      "call new short position, current position is 1\n",
      "1 has been closed and toggled to short\n",
      "position closed and profit/lose has been calculated\n",
      "balance has been managed and tp sl returned for position\n",
      "short position opened\n",
      "11 -1.0\n",
      "12 -1.0\n",
      "13 -1.0\n",
      "14 -1.0\n",
      "15 -1.0\n",
      "16 -1.0\n",
      "17 -1.0\n",
      "18 1.0\n",
      "call new long position, current position is -1\n",
      "-1 has been closed and toggled to long\n",
      "position closed and profit/lose has been calculated\n",
      "balance has been managed and tp sl returned for position\n",
      "long position opened\n",
      "19 -1.0\n",
      "call new short position, current position is 1\n",
      "1 has been closed and toggled to short\n",
      "position closed and profit/lose has been calculated\n",
      "balance has been managed and tp sl returned for position\n",
      "short position opened\n",
      "20 -1.0\n",
      "21 -1.0\n",
      "22 -1.0\n",
      "23 -1.0\n",
      "24 -1.0\n",
      "25 -1.0\n",
      "26 -1.0\n",
      "27 -1.0\n",
      "28 -1.0\n",
      "29 1.0\n",
      "call new long position, current position is -1\n",
      "-1 has been closed and toggled to long\n",
      "position closed and profit/lose has been calculated\n",
      "balance has been managed and tp sl returned for position\n",
      "long position opened\n"
     ]
    },
    {
     "data": {
      "text/plain": "    Signal    Price  Position\n0      NaN  64441.8         0\n1      NaN  65503.8         0\n2     -1.0  67854.0        -1\n3     -1.0  62050.0         0\n4      1.0  67594.1         1\n5     -1.0  68391.2        -1\n6     -1.0  65314.2         0\n7      1.0  69463.7         1\n8      1.0  71387.5         0\n9      1.0  73066.3         0\n10    -1.0  71470.2        -1\n11    -1.0  72099.1         0\n12    -1.0  68964.8         0\n13    -1.0  68366.5         0\n14    -1.0  68172.0         0\n15    -1.0  66855.3         0\n16    -1.0  66080.4         0\n17    -1.0  63792.6         0\n18     1.0  68270.1         1\n19    -1.0  63135.8        -1\n20    -1.0  61994.5         0\n21    -1.0  62397.7         0\n22    -1.0  61169.3         0\n23    -1.0  62467.6         0\n24    -1.0  57056.2         0\n25    -1.0  54495.1         0\n26    -1.0  51722.7         0\n27    -1.0  51571.6         0\n28    -1.0  50740.5         0\n29     1.0  51320.4         1",
      "text/html": "<div>\n<style scoped>\n    .dataframe tbody tr th:only-of-type {\n        vertical-align: middle;\n    }\n\n    .dataframe tbody tr th {\n        vertical-align: top;\n    }\n\n    .dataframe thead th {\n        text-align: right;\n    }\n</style>\n<table border=\"1\" class=\"dataframe\">\n  <thead>\n    <tr style=\"text-align: right;\">\n      <th></th>\n      <th>Signal</th>\n      <th>Price</th>\n      <th>Position</th>\n    </tr>\n  </thead>\n  <tbody>\n    <tr>\n      <th>0</th>\n      <td>NaN</td>\n      <td>64441.8</td>\n      <td>0</td>\n    </tr>\n    <tr>\n      <th>1</th>\n      <td>NaN</td>\n      <td>65503.8</td>\n      <td>0</td>\n    </tr>\n    <tr>\n      <th>2</th>\n      <td>-1.0</td>\n      <td>67854.0</td>\n      <td>-1</td>\n    </tr>\n    <tr>\n      <th>3</th>\n      <td>-1.0</td>\n      <td>62050.0</td>\n      <td>0</td>\n    </tr>\n    <tr>\n      <th>4</th>\n      <td>1.0</td>\n      <td>67594.1</td>\n      <td>1</td>\n    </tr>\n    <tr>\n      <th>5</th>\n      <td>-1.0</td>\n      <td>68391.2</td>\n      <td>-1</td>\n    </tr>\n    <tr>\n      <th>6</th>\n      <td>-1.0</td>\n      <td>65314.2</td>\n      <td>0</td>\n    </tr>\n    <tr>\n      <th>7</th>\n      <td>1.0</td>\n      <td>69463.7</td>\n      <td>1</td>\n    </tr>\n    <tr>\n      <th>8</th>\n      <td>1.0</td>\n      <td>71387.5</td>\n      <td>0</td>\n    </tr>\n    <tr>\n      <th>9</th>\n      <td>1.0</td>\n      <td>73066.3</td>\n      <td>0</td>\n    </tr>\n    <tr>\n      <th>10</th>\n      <td>-1.0</td>\n      <td>71470.2</td>\n      <td>-1</td>\n    </tr>\n    <tr>\n      <th>11</th>\n      <td>-1.0</td>\n      <td>72099.1</td>\n      <td>0</td>\n    </tr>\n    <tr>\n      <th>12</th>\n      <td>-1.0</td>\n      <td>68964.8</td>\n      <td>0</td>\n    </tr>\n    <tr>\n      <th>13</th>\n      <td>-1.0</td>\n      <td>68366.5</td>\n      <td>0</td>\n    </tr>\n    <tr>\n      <th>14</th>\n      <td>-1.0</td>\n      <td>68172.0</td>\n      <td>0</td>\n    </tr>\n    <tr>\n      <th>15</th>\n      <td>-1.0</td>\n      <td>66855.3</td>\n      <td>0</td>\n    </tr>\n    <tr>\n      <th>16</th>\n      <td>-1.0</td>\n      <td>66080.4</td>\n      <td>0</td>\n    </tr>\n    <tr>\n      <th>17</th>\n      <td>-1.0</td>\n      <td>63792.6</td>\n      <td>0</td>\n    </tr>\n    <tr>\n      <th>18</th>\n      <td>1.0</td>\n      <td>68270.1</td>\n      <td>1</td>\n    </tr>\n    <tr>\n      <th>19</th>\n      <td>-1.0</td>\n      <td>63135.8</td>\n      <td>-1</td>\n    </tr>\n    <tr>\n      <th>20</th>\n      <td>-1.0</td>\n      <td>61994.5</td>\n      <td>0</td>\n    </tr>\n    <tr>\n      <th>21</th>\n      <td>-1.0</td>\n      <td>62397.7</td>\n      <td>0</td>\n    </tr>\n    <tr>\n      <th>22</th>\n      <td>-1.0</td>\n      <td>61169.3</td>\n      <td>0</td>\n    </tr>\n    <tr>\n      <th>23</th>\n      <td>-1.0</td>\n      <td>62467.6</td>\n      <td>0</td>\n    </tr>\n    <tr>\n      <th>24</th>\n      <td>-1.0</td>\n      <td>57056.2</td>\n      <td>0</td>\n    </tr>\n    <tr>\n      <th>25</th>\n      <td>-1.0</td>\n      <td>54495.1</td>\n      <td>0</td>\n    </tr>\n    <tr>\n      <th>26</th>\n      <td>-1.0</td>\n      <td>51722.7</td>\n      <td>0</td>\n    </tr>\n    <tr>\n      <th>27</th>\n      <td>-1.0</td>\n      <td>51571.6</td>\n      <td>0</td>\n    </tr>\n    <tr>\n      <th>28</th>\n      <td>-1.0</td>\n      <td>50740.5</td>\n      <td>0</td>\n    </tr>\n    <tr>\n      <th>29</th>\n      <td>1.0</td>\n      <td>51320.4</td>\n      <td>1</td>\n    </tr>\n  </tbody>\n</table>\n</div>"
     },
     "execution_count": 15,
     "metadata": {},
     "output_type": "execute_result"
    }
   ],
   "source": [
    "def execute_order(data):\n",
    "    orders = pd.DataFrame(columns=['Signal', 'Price'])\n",
    "    orders['Signal'] = data['Signal']\n",
    "    orders['Price'] = data['Close']\n",
    "    current_position = 0\n",
    "    \n",
    "    for i in range(len(orders)):\n",
    "        \n",
    "        signal = orders['Signal'].iloc[i] # get every signals\n",
    "        \n",
    "        if signal != np.nan:\n",
    "            print(i, signal)\n",
    "            \n",
    "            if signal > current_position:  # Open new long position\n",
    "                print(f\"call new long position, current position is {current_position}\")\n",
    "                \n",
    "                toggle_position(data, 'long', current_position)\n",
    "                current_position = 1\n",
    "        \n",
    "            if signal < current_position:  # Open new short position\n",
    "                print(f\"call new short position, current position is {current_position}\")\n",
    "                \n",
    "                toggle_position(data, 'short', current_position)\n",
    "                current_position = -1\n",
    "                \n",
    "        else:\n",
    "            continue\n",
    "    else:\n",
    "        return orders\n",
    "        \n",
    "        \n",
    "execute_order(generated_signals)\n"
   ],
   "metadata": {
    "collapsed": false,
    "ExecuteTime": {
     "end_time": "2024-05-06T16:23:23.691422Z",
     "start_time": "2024-05-06T16:23:23.667939Z"
    }
   },
   "execution_count": 15
  },
  {
   "cell_type": "code",
   "outputs": [],
   "source": [
    "def toggle_position(data, direction, current_position):\n",
    "    \n",
    "    # check if all positions closed\n",
    "    if current_position == 0:\n",
    "        open_position(data, direction)\n",
    "        \n",
    "    else:\n",
    "        print(f\"{current_position} has been closed and toggled to {direction}\")\n",
    "        close_position(data, direction)\n",
    "        \n",
    "        toggle_position(data, direction, 0) # call for open position\n",
    "\n",
    "\n",
    "def open_position(data, direction):\n",
    "    balance_management(data)\n",
    "    print(f\"{direction} position opened\")\n",
    "    # this method needs : direction, amount, ( sl, tp, r/r), price, symbol\n",
    "    # send data to api for open short/long position and save response\n",
    "    # save current position information such as position_id/code, date/time\n",
    "\n",
    "def close_position(data, direction, status=None):\n",
    "    # this method needs : position_id/code, date/time, old_price, new_price, symbol, strategy\n",
    "    # send data to api for close position\n",
    "    calc_profit_lose(data, status)\n",
    "    \n",
    "    \n",
    "def balance_management(data):\n",
    "    print(f\"balance has been managed and tp sl returned for position\")   #set tp/sl and entry price\n",
    "    # this method needs : get account balance with a method when all positions are close\n",
    "    # return new balance management for amount, tp/sl, r/r\n",
    "    \n",
    "def calc_profit_lose(data, status):\n",
    "    print(\"position closed and profit/lose has been calculated\")\n",
    "    # calculate win rate when all positions are closed\n",
    "    # this method needs : old_balance, new_balance, date_time, total positions (for today & all), status\n",
    "\n",
    "\n",
    "\n",
    "def check_tp_sl(data, direction, current_position):\n",
    "    # this method needs : direction, current_position_status, \n",
    "    # send data to api for\n",
    "    \n",
    "    if direction == 'long':\n",
    "        if (status := 'data.low' < 'data.sl') or (status := 'data.high' > 'data.tp'):\n",
    "            close_position(data, direction, status=status)\n",
    "            # set current position to 0\n",
    "          \n",
    "    \n",
    "    if direction == 'short':\n",
    "        if (status := 'data.high' > 'data.sl') or (status := 'data.low' < 'data.tp'):\n",
    "            close_position(data, direction, status=status)\n",
    "            # set current position to 0\n",
    "            \n"
   ],
   "metadata": {
    "collapsed": false,
    "ExecuteTime": {
     "end_time": "2024-05-06T16:23:23.653213Z",
     "start_time": "2024-05-06T16:23:23.644696Z"
    }
   },
   "execution_count": 13
  }
 ],
 "metadata": {
  "kernelspec": {
   "display_name": "base",
   "language": "python",
   "name": "python3"
  },
  "language_info": {
   "codemirror_mode": {
    "name": "ipython",
    "version": 3
   },
   "file_extension": ".py",
   "mimetype": "text/x-python",
   "name": "python",
   "nbconvert_exporter": "python",
   "pygments_lexer": "ipython3",
   "version": "3.12.2"
  }
 },
 "nbformat": 4,
 "nbformat_minor": 2
}
